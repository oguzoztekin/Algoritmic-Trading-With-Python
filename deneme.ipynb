{
 "cells": [
  {
   "cell_type": "code",
   "execution_count": 33,
   "metadata": {},
   "outputs": [],
   "source": [
    "import pandas as pd\n",
    "import plotly.graph_objs as go\n",
    "from plotly.subplots import make_subplots\n",
    "import plotly.express as px\n",
    "import yfinance as yf\n",
    "import numpy as np #The Numpy numerical computing library\n",
    "import pandas as pd #The Pandas data science library\n",
    "import requests #The requests library for HTTP requests in Python\n",
    "import xlsxwriter #The XlsxWriter libarary for \n",
    "import math #The Python math module\n",
    "\n",
    "stocks = pd.read_csv('sp_500_stocks.csv')\n",
    "list_stocks = [stocks[\"Ticker\"][i] for i in range(0,505)]"
   ]
  },
  {
   "cell_type": "code",
   "execution_count": 41,
   "metadata": {},
   "outputs": [
    {
     "name": "stderr",
     "output_type": "stream",
     "text": [
      "[*********************100%***********************]  505 of 505 completed\n",
      "\n",
      "47 Failed downloads:\n",
      "['ATVI', 'GPS', 'FLT', 'PBCT', 'CTL', 'FBHS', 'RE', 'NLOK', 'BRK.B', 'DISH', 'CTXS', 'DRE', 'NLSN', 'FLIR', 'VIAC', 'KSU', 'WLTW', 'TWTR', 'WRK', 'PKI', 'FRC', 'DISCA', 'ANTM', 'ABMD', 'VAR', 'MYL', 'MXIM', 'NBL', 'ALXN', 'ABC', 'HFC', 'FB', 'SIVB', 'CXO', 'PEAK', 'ETFC', 'DISCK', 'CERN', 'TIF', 'PXD', 'COG', 'XLNX', 'BLL']: YFTzMissingError('$%ticker%: possibly delisted; no timezone found')\n",
      "['INFO', 'FISV', 'LB']: YFPricesMissingError('$%ticker%: possibly delisted; no price data found  (1d 2020-01-01 -> 2023-01-01) (Yahoo error = \"Data doesn\\'t exist for startDate = 1577854800, endDate = 1672549200\")')\n",
      "['BF.B']: YFPricesMissingError('$%ticker%: possibly delisted; no price data found  (1d 2020-01-01 -> 2023-01-01)')\n"
     ]
    },
    {
     "name": "stdout",
     "output_type": "stream",
     "text": [
      "Price       Adj Close                                                        \\\n",
      "Ticker              A        AAL         AAP       AAPL       ABBV ABC ABMD   \n",
      "Date                                                                          \n",
      "2020-01-02  83.214874  28.982893  144.599106  72.796021  72.264885 NaN  NaN   \n",
      "2020-01-03  81.878799  27.548195  144.608124  72.088287  71.578941 NaN  NaN   \n",
      "2020-01-06  82.120834  27.219410  142.231537  72.662697  72.143845 NaN  NaN   \n",
      "2020-01-07  82.372566  27.119778  140.544373  72.320976  71.732277 NaN  NaN   \n",
      "2020-01-08  83.185806  27.737495  138.929764  73.484344  72.240654 NaN  NaN   \n",
      "\n",
      "Price                                          ... Volume                     \\\n",
      "Ticker            ABT         ACN        ADBE  ...   XLNX       XOM     XRAY   \n",
      "Date                                           ...                             \n",
      "2020-01-02  79.689941  195.263565  334.429993  ...    NaN  12456400  1556600   \n",
      "2020-01-03  78.718460  194.938385  331.809998  ...    NaN  17386900   910000   \n",
      "2020-01-06  79.130867  193.665421  333.709991  ...    NaN  20081900   751000   \n",
      "2020-01-07  78.690979  189.484177  333.390015  ...    NaN  17387700   792600   \n",
      "2020-01-08  79.011749  189.855865  337.869995  ...    NaN  15137700  1001500   \n",
      "\n",
      "Price                                                                     \n",
      "Ticker          XRX      XYL      YUM      ZBH    ZBRA     ZION      ZTS  \n",
      "Date                                                                      \n",
      "2020-01-02  1581300   869500  1369900  1083972  387800  1528700  1576700  \n",
      "2020-01-03  1042600   795100  1145500   992405  305300  1215800  1274000  \n",
      "2020-01-06  1199200   817300  1454100   972423  322600  1217500  2334100  \n",
      "2020-01-07  1533100   662200  1388600   934519  236300  1450900  1224500  \n",
      "2020-01-08  1345400  1083200  1521500   936064  689600  2396000  1766700  \n",
      "\n",
      "[5 rows x 3030 columns]\n"
     ]
    }
   ],
   "source": [
    "# Get Apple's stock data from yahoo finance\n",
    "stocks_data = yf.download(list_stocks, start=\"2020-01-01\", end=\"2023-01-01\")\n",
    "\n",
    "print(stocks_data.head())"
   ]
  },
  {
   "cell_type": "code",
   "execution_count": null,
   "metadata": {},
   "outputs": [],
   "source": []
  }
 ],
 "metadata": {
  "kernelspec": {
   "display_name": "Python 3",
   "language": "python",
   "name": "python3"
  },
  "language_info": {
   "codemirror_mode": {
    "name": "ipython",
    "version": 3
   },
   "file_extension": ".py",
   "mimetype": "text/x-python",
   "name": "python",
   "nbconvert_exporter": "python",
   "pygments_lexer": "ipython3",
   "version": "3.11.9"
  }
 },
 "nbformat": 4,
 "nbformat_minor": 2
}
